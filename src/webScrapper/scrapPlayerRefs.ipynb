{
 "cells": [
  {
   "cell_type": "code",
   "execution_count": 1,
   "metadata": {},
   "outputs": [],
   "source": [
    "from scrapper import Scrapper\n",
    "import re\n",
    "import pandas as pd"
   ]
  },
  {
   "cell_type": "code",
   "execution_count": 2,
   "metadata": {},
   "outputs": [],
   "source": [
    "tst = Scrapper()"
   ]
  },
  {
   "cell_type": "code",
   "execution_count": 3,
   "metadata": {},
   "outputs": [
    {
     "name": "stdout",
     "output_type": "stream",
     "text": [
      "FIFA 17 PLAYERS EXTRACTED \n",
      "\n",
      "\n",
      "\n",
      "FIFA 18 PLAYERS EXTRACTED \n",
      "\n",
      "\n",
      "\n",
      "FIFA 19 PLAYERS EXTRACTED \n",
      "\n",
      "\n",
      "\n",
      "FIFA 20 PLAYERS EXTRACTED \n",
      "\n",
      "\n",
      "\n",
      "FIFA 21 PLAYERS EXTRACTED \n",
      "\n",
      "\n",
      "\n",
      "FIFA 22 PLAYERS EXTRACTED \n",
      "\n",
      "\n",
      "\n",
      "FIFA 23 PLAYERS EXTRACTED \n",
      "\n",
      "\n",
      "\n"
     ]
    }
   ],
   "source": [
    "dfPlayers = tst.get_players_refs()"
   ]
  },
  {
   "cell_type": "code",
   "execution_count": 4,
   "metadata": {},
   "outputs": [
    {
     "data": {
      "text/html": [
       "<div>\n",
       "<style scoped>\n",
       "    .dataframe tbody tr th:only-of-type {\n",
       "        vertical-align: middle;\n",
       "    }\n",
       "\n",
       "    .dataframe tbody tr th {\n",
       "        vertical-align: top;\n",
       "    }\n",
       "\n",
       "    .dataframe thead th {\n",
       "        text-align: right;\n",
       "    }\n",
       "</style>\n",
       "<table border=\"1\" class=\"dataframe\">\n",
       "  <thead>\n",
       "    <tr style=\"text-align: right;\">\n",
       "      <th></th>\n",
       "      <th>ID</th>\n",
       "      <th>FIFA</th>\n",
       "      <th>Name</th>\n",
       "      <th>Club</th>\n",
       "    </tr>\n",
       "  </thead>\n",
       "  <tbody>\n",
       "    <tr>\n",
       "      <th>0</th>\n",
       "      <td>/player/20801/c-ronaldo-dos-santos-aveiro/170099/</td>\n",
       "      <td>17</td>\n",
       "      <td>C. Ronaldo dos Santos Aveiro</td>\n",
       "      <td>Real Madrid</td>\n",
       "    </tr>\n",
       "    <tr>\n",
       "      <th>1</th>\n",
       "      <td>/player/158023/lionel-messi/170099/</td>\n",
       "      <td>17</td>\n",
       "      <td>Lionel Messi</td>\n",
       "      <td>FC Barcelona</td>\n",
       "    </tr>\n",
       "    <tr>\n",
       "      <th>2</th>\n",
       "      <td>/player/167495/manuel-neuer/170099/</td>\n",
       "      <td>17</td>\n",
       "      <td>Manuel Neuer</td>\n",
       "      <td>FC Bayern München</td>\n",
       "    </tr>\n",
       "    <tr>\n",
       "      <th>3</th>\n",
       "      <td>/player/176580/luis-suarez/170099/</td>\n",
       "      <td>17</td>\n",
       "      <td>Luis Suárez</td>\n",
       "      <td>FC Barcelona</td>\n",
       "    </tr>\n",
       "    <tr>\n",
       "      <th>4</th>\n",
       "      <td>/player/190871/neymar-da-silva-santos-jr/170099/</td>\n",
       "      <td>17</td>\n",
       "      <td>Neymar da Silva Santos Jr.</td>\n",
       "      <td>FC Barcelona</td>\n",
       "    </tr>\n",
       "    <tr>\n",
       "      <th>...</th>\n",
       "      <td>...</td>\n",
       "      <td>...</td>\n",
       "      <td>...</td>\n",
       "      <td>...</td>\n",
       "    </tr>\n",
       "    <tr>\n",
       "      <th>14</th>\n",
       "      <td>/player/264805/harry-birtwistle/230008/</td>\n",
       "      <td>23</td>\n",
       "      <td>Harry Birtwistle</td>\n",
       "      <td>Wolverhampton Wanderers</td>\n",
       "    </tr>\n",
       "    <tr>\n",
       "      <th>15</th>\n",
       "      <td>/player/271191/joe-whitworth/230008/</td>\n",
       "      <td>23</td>\n",
       "      <td>Joe Whitworth</td>\n",
       "      <td>Crystal Palace</td>\n",
       "    </tr>\n",
       "    <tr>\n",
       "      <th>16</th>\n",
       "      <td>/player/271603/jack-hinchy/230008/</td>\n",
       "      <td>23</td>\n",
       "      <td>Jack Hinchy</td>\n",
       "      <td>Brighton &amp; Hove Albion</td>\n",
       "    </tr>\n",
       "    <tr>\n",
       "      <th>17</th>\n",
       "      <td>/player/266292/jannik-horz/230008/</td>\n",
       "      <td>23</td>\n",
       "      <td>Jannik Horz</td>\n",
       "      <td>Eintracht Frankfurt</td>\n",
       "    </tr>\n",
       "    <tr>\n",
       "      <th>18</th>\n",
       "      <td>/player/265527/oliver-tipton/230008/</td>\n",
       "      <td>23</td>\n",
       "      <td>Oliver Tipton</td>\n",
       "      <td>Wolverhampton Wanderers</td>\n",
       "    </tr>\n",
       "  </tbody>\n",
       "</table>\n",
       "<p>20458 rows × 4 columns</p>\n",
       "</div>"
      ],
      "text/plain": [
       "                                                   ID FIFA  \\\n",
       "0   /player/20801/c-ronaldo-dos-santos-aveiro/170099/   17   \n",
       "1                 /player/158023/lionel-messi/170099/   17   \n",
       "2                 /player/167495/manuel-neuer/170099/   17   \n",
       "3                  /player/176580/luis-suarez/170099/   17   \n",
       "4    /player/190871/neymar-da-silva-santos-jr/170099/   17   \n",
       "..                                                ...  ...   \n",
       "14            /player/264805/harry-birtwistle/230008/   23   \n",
       "15               /player/271191/joe-whitworth/230008/   23   \n",
       "16                 /player/271603/jack-hinchy/230008/   23   \n",
       "17                 /player/266292/jannik-horz/230008/   23   \n",
       "18               /player/265527/oliver-tipton/230008/   23   \n",
       "\n",
       "                            Name                     Club  \n",
       "0   C. Ronaldo dos Santos Aveiro              Real Madrid  \n",
       "1                   Lionel Messi             FC Barcelona  \n",
       "2                   Manuel Neuer        FC Bayern München  \n",
       "3                    Luis Suárez             FC Barcelona  \n",
       "4     Neymar da Silva Santos Jr.             FC Barcelona  \n",
       "..                           ...                      ...  \n",
       "14              Harry Birtwistle  Wolverhampton Wanderers  \n",
       "15                 Joe Whitworth           Crystal Palace  \n",
       "16                   Jack Hinchy   Brighton & Hove Albion  \n",
       "17                   Jannik Horz      Eintracht Frankfurt  \n",
       "18                 Oliver Tipton  Wolverhampton Wanderers  \n",
       "\n",
       "[20458 rows x 4 columns]"
      ]
     },
     "execution_count": 4,
     "metadata": {},
     "output_type": "execute_result"
    }
   ],
   "source": [
    "dfPlayers"
   ]
  },
  {
   "cell_type": "code",
   "execution_count": 5,
   "metadata": {},
   "outputs": [],
   "source": [
    "dfPlayers.to_pickle('../../data/players.pkl')"
   ]
  }
 ],
 "metadata": {
  "kernelspec": {
   "display_name": "Python 3.10.6 ('soccerOdds')",
   "language": "python",
   "name": "python3"
  },
  "language_info": {
   "codemirror_mode": {
    "name": "ipython",
    "version": 3
   },
   "file_extension": ".py",
   "mimetype": "text/x-python",
   "name": "python",
   "nbconvert_exporter": "python",
   "pygments_lexer": "ipython3",
   "version": "3.10.6 | packaged by conda-forge | (main, Oct  7 2022, 20:14:50) [MSC v.1916 64 bit (AMD64)]"
  },
  "orig_nbformat": 4,
  "vscode": {
   "interpreter": {
    "hash": "933f41b30f7821c659680c6a9e1d5f4ec38a49b55549938f797baa23edf4c3e5"
   }
  }
 },
 "nbformat": 4,
 "nbformat_minor": 2
}
