{
 "cells": [
  {
   "cell_type": "code",
   "execution_count": 1,
   "metadata": {},
   "outputs": [],
   "source": [
    "import pandas as pd\n",
    "from fuzzyMatching import FuzzyMatcher"
   ]
  },
  {
   "cell_type": "code",
   "execution_count": 2,
   "metadata": {},
   "outputs": [],
   "source": [
    "playersRefs = pd.read_pickle(\"../../data/players.pkl\")\n",
    "matches = pd.read_pickle(\"../../data/matchesDataset.pkl\")\n",
    "\n",
    "FuzzyMatcher = FuzzyMatcher(playersRefs, matches)\n",
    "result = FuzzyMatcher.fuzzy_match()"
   ]
  },
  {
   "cell_type": "code",
   "execution_count": 9,
   "metadata": {},
   "outputs": [],
   "source": [
    "result.to_pickle('../../data/playersRefs.pkl')"
   ]
  },
  {
   "cell_type": "code",
   "execution_count": 10,
   "metadata": {},
   "outputs": [
    {
     "data": {
      "text/html": [
       "<div>\n",
       "<style scoped>\n",
       "    .dataframe tbody tr th:only-of-type {\n",
       "        vertical-align: middle;\n",
       "    }\n",
       "\n",
       "    .dataframe tbody tr th {\n",
       "        vertical-align: top;\n",
       "    }\n",
       "\n",
       "    .dataframe thead th {\n",
       "        text-align: right;\n",
       "    }\n",
       "</style>\n",
       "<table border=\"1\" class=\"dataframe\">\n",
       "  <thead>\n",
       "    <tr style=\"text-align: right;\">\n",
       "      <th></th>\n",
       "      <th>player</th>\n",
       "      <th>club</th>\n",
       "      <th>fifaGame</th>\n",
       "      <th>ID</th>\n",
       "      <th>FIFA</th>\n",
       "      <th>Name</th>\n",
       "      <th>Club</th>\n",
       "    </tr>\n",
       "  </thead>\n",
       "  <tbody>\n",
       "    <tr>\n",
       "      <th>0</th>\n",
       "      <td>Aaron Cresswell</td>\n",
       "      <td>West Ham</td>\n",
       "      <td>17</td>\n",
       "      <td>/player/189615/aaron-cresswell/170099/</td>\n",
       "      <td>17.0</td>\n",
       "      <td>Aaron Cresswell</td>\n",
       "      <td>West Ham United</td>\n",
       "    </tr>\n",
       "    <tr>\n",
       "      <th>1</th>\n",
       "      <td>James Tomkins</td>\n",
       "      <td>West Ham</td>\n",
       "      <td>17</td>\n",
       "      <td>/player/173546/james-tomkins/170099/</td>\n",
       "      <td>17.0</td>\n",
       "      <td>James Tomkins</td>\n",
       "      <td>Crystal Palace</td>\n",
       "    </tr>\n",
       "    <tr>\n",
       "      <th>2</th>\n",
       "      <td>Cheikhou Kouyaté</td>\n",
       "      <td>West Ham</td>\n",
       "      <td>17</td>\n",
       "      <td>/player/186801/cheikhou-kouyate/170099/</td>\n",
       "      <td>17.0</td>\n",
       "      <td>Cheikhou Kouyaté</td>\n",
       "      <td>West Ham United</td>\n",
       "    </tr>\n",
       "    <tr>\n",
       "      <th>3</th>\n",
       "      <td>Andy Carroll</td>\n",
       "      <td>West Ham</td>\n",
       "      <td>17</td>\n",
       "      <td>/player/182836/andy-carroll/170099/</td>\n",
       "      <td>17.0</td>\n",
       "      <td>Andy Carroll</td>\n",
       "      <td>West Ham United</td>\n",
       "    </tr>\n",
       "    <tr>\n",
       "      <th>4</th>\n",
       "      <td>Manuel Lanzini</td>\n",
       "      <td>West Ham</td>\n",
       "      <td>17</td>\n",
       "      <td>/player/188988/manuel-lanzini/170099/</td>\n",
       "      <td>17.0</td>\n",
       "      <td>Manuel Lanzini</td>\n",
       "      <td>West Ham United</td>\n",
       "    </tr>\n",
       "  </tbody>\n",
       "</table>\n",
       "</div>"
      ],
      "text/plain": [
       "             player      club  fifaGame  \\\n",
       "0   Aaron Cresswell  West Ham        17   \n",
       "1     James Tomkins  West Ham        17   \n",
       "2  Cheikhou Kouyaté  West Ham        17   \n",
       "3      Andy Carroll  West Ham        17   \n",
       "4    Manuel Lanzini  West Ham        17   \n",
       "\n",
       "                                        ID  FIFA              Name  \\\n",
       "0   /player/189615/aaron-cresswell/170099/  17.0   Aaron Cresswell   \n",
       "1     /player/173546/james-tomkins/170099/  17.0     James Tomkins   \n",
       "2  /player/186801/cheikhou-kouyate/170099/  17.0  Cheikhou Kouyaté   \n",
       "3      /player/182836/andy-carroll/170099/  17.0      Andy Carroll   \n",
       "4    /player/188988/manuel-lanzini/170099/  17.0    Manuel Lanzini   \n",
       "\n",
       "              Club  \n",
       "0  West Ham United  \n",
       "1   Crystal Palace  \n",
       "2  West Ham United  \n",
       "3  West Ham United  \n",
       "4  West Ham United  "
      ]
     },
     "execution_count": 10,
     "metadata": {},
     "output_type": "execute_result"
    }
   ],
   "source": [
    "result.head()"
   ]
  }
 ],
 "metadata": {
  "kernelspec": {
   "display_name": "Python 3.10.6 ('soccerOdds')",
   "language": "python",
   "name": "python3"
  },
  "language_info": {
   "codemirror_mode": {
    "name": "ipython",
    "version": 3
   },
   "file_extension": ".py",
   "mimetype": "text/x-python",
   "name": "python",
   "nbconvert_exporter": "python",
   "pygments_lexer": "ipython3",
   "version": "3.10.6 | packaged by conda-forge | (main, Oct  7 2022, 20:14:50) [MSC v.1916 64 bit (AMD64)]"
  },
  "orig_nbformat": 4,
  "vscode": {
   "interpreter": {
    "hash": "933f41b30f7821c659680c6a9e1d5f4ec38a49b55549938f797baa23edf4c3e5"
   }
  }
 },
 "nbformat": 4,
 "nbformat_minor": 2
}
