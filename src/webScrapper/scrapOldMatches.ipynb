{
 "cells": [
  {
   "cell_type": "code",
   "execution_count": 1,
   "metadata": {},
   "outputs": [],
   "source": [
    "import pandas as pd\n",
    "import os\n",
    "import sys\n",
    "from scrapper import scrapper\n",
    "\n",
    "dataFolder = os.path.join(os.path.dirname(os.path.dirname(os.path.abspath(os.path.dirname('')))), 'data\\\\')"
   ]
  },
  {
   "cell_type": "markdown",
   "metadata": {},
   "source": [
    "Scrapper"
   ]
  },
  {
   "cell_type": "code",
   "execution_count": 2,
   "metadata": {},
   "outputs": [
    {
     "name": "stdout",
     "output_type": "stream",
     "text": [
      "https://fbref.com/en/matches/2020-02-28\n",
      "https://fbref.com/en/matches/2020-02-29\n",
      "https://fbref.com/en/matches/2020-03-01\n",
      "https://fbref.com/en/matches/2020-03-02\n",
      "https://fbref.com/en/matches/2020-03-03\n",
      "https://fbref.com/en/matches/2020-03-04\n",
      "https://fbref.com/en/matches/2020-03-05\n",
      "https://fbref.com/en/matches/2020-03-06\n",
      "https://fbref.com/en/matches/2020-03-07\n",
      "https://fbref.com/en/matches/2020-03-08\n",
      "https://fbref.com/en/matches/2020-03-09\n"
     ]
    }
   ],
   "source": [
    "teste = scrapper()\n",
    "df=teste.getMatches(start=date(2016,2,28), end=date(2022,11,15))"
   ]
  },
  {
   "cell_type": "markdown",
   "metadata": {},
   "source": [
    "Recovering scrapper backup"
   ]
  },
  {
   "cell_type": "code",
   "execution_count": 10,
   "metadata": {},
   "outputs": [],
   "source": [
    "oldRunsDf = pd.read_pickle(os.path.join(dataFolder,\"matchesDataset.pkl\"))\n",
    "lastRunBackup = pd.read_pickle(os.path.join(dataFolder,\"checkPoint.pkl\")\n",
    "dfNew = pd.concat([oldRunsDf, lastRunBackup], axis=0)\n",
    "dfNew.to_pickle(path=os.path.join(dataFolder,\"matchesDataset.pkl\"))"
   ]
  }
 ],
 "metadata": {
  "kernelspec": {
   "display_name": "Python 3.10.6 ('soccerOdds')",
   "language": "python",
   "name": "python3"
  },
  "language_info": {
   "codemirror_mode": {
    "name": "ipython",
    "version": 3
   },
   "file_extension": ".py",
   "mimetype": "text/x-python",
   "name": "python",
   "nbconvert_exporter": "python",
   "pygments_lexer": "ipython3",
   "version": "3.10.6"
  },
  "orig_nbformat": 4,
  "vscode": {
   "interpreter": {
    "hash": "933f41b30f7821c659680c6a9e1d5f4ec38a49b55549938f797baa23edf4c3e5"
   }
  }
 },
 "nbformat": 4,
 "nbformat_minor": 2
}
