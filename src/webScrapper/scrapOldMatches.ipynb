{
 "cells": [
  {
   "cell_type": "code",
   "execution_count": 2,
   "metadata": {
    "ExecuteTime": {
     "end_time": "2024-05-07T21:50:06.248335300Z",
     "start_time": "2024-05-07T21:50:06.144085800Z"
    }
   },
   "outputs": [],
   "source": [
    "import pandas as pd\n",
    "import os\n",
    "import sys\n",
    "from scrapper import Scrapper\n",
    "from datetime import date\n",
    "\n",
    "dataFolder = os.path.join(os.path.dirname(os.path.dirname(os.path.abspath(os.path.dirname('')))), 'data\\\\')\n",
    "sys.path.append(dataFolder)"
   ]
  },
  {
   "cell_type": "markdown",
   "metadata": {},
   "source": [
    "Scrapper"
   ]
  },
  {
   "cell_type": "code",
   "execution_count": null,
   "metadata": {
    "ExecuteTime": {
     "start_time": "2024-05-07T21:59:37.276310400Z"
    }
   },
   "outputs": [
    {
     "name": "stdout",
     "output_type": "stream",
     "text": [
      "https://fbref.com/en/matches/2022-09-02\n",
      "https://fbref.com/en/matches/2022-09-03\n",
      "https://fbref.com/en/matches/2022-09-04\n",
      "https://fbref.com/en/matches/2022-09-05\n",
      "https://fbref.com/en/matches/2022-09-06\n",
      "https://fbref.com/en/matches/2022-09-07\n",
      "https://fbref.com/en/matches/2022-09-08\n",
      "https://fbref.com/en/matches/2022-09-09\n",
      "https://fbref.com/en/matches/2022-09-10\n",
      "https://fbref.com/en/matches/2022-09-11\n",
      "https://fbref.com/en/matches/2022-09-12\n",
      "https://fbref.com/en/matches/2022-09-13\n",
      "https://fbref.com/en/matches/2022-09-14\n"
     ]
    }
   ],
   "source": [
    "teste = Scrapper()\n",
    "# df=teste.get_matches(start=date(2022,9,2), end=date(2022,11,15))"
   ]
  },
  {
   "cell_type": "code",
   "execution_count": null,
   "metadata": {
    "ExecuteTime": {
     "start_time": "2024-05-07T21:57:27.366891600Z"
    }
   },
   "outputs": [],
   "source": [
    "pd.read_pickle(os.path.join(dataFolder,\"checkPoint.pkl\")).tail(5)"
   ]
  },
  {
   "cell_type": "code",
   "execution_count": null,
   "metadata": {
    "ExecuteTime": {
     "end_time": "2024-05-07T21:57:27.374890400Z",
     "start_time": "2024-05-07T21:57:27.370891300Z"
    }
   },
   "outputs": [],
   "source": [
    "pd.read_pickle(os.path.join(dataFolder,\"matchesDataset.pkl\")).tail(5)"
   ]
  },
  {
   "cell_type": "markdown",
   "metadata": {},
   "source": [
    "Recovering scrapper backup"
   ]
  },
  {
   "cell_type": "code",
   "execution_count": null,
   "metadata": {
    "ExecuteTime": {
     "end_time": "2024-05-07T21:57:27.380305Z",
     "start_time": "2024-05-07T21:57:27.377302900Z"
    }
   },
   "outputs": [],
   "source": [
    "oldRunsDf = pd.read_pickle(os.path.join(dataFolder,\"matchesDataset.pkl\"))\n",
    "lastRunBackup = pd.read_pickle(os.path.join(dataFolder,\"checkPoint.pkl\"))\n",
    "dfNew = pd.concat([oldRunsDf, lastRunBackup], axis=0)\n",
    "dfNew.to_pickle(path=os.path.join(dataFolder,\"matchesDataset.pkl\"))"
   ]
  },
  {
   "cell_type": "code",
   "execution_count": null,
   "metadata": {
    "ExecuteTime": {
     "start_time": "2024-05-07T21:57:27.382296800Z"
    }
   },
   "outputs": [],
   "source": [
    "dfNew.to_pickle(path=os.path.join(dataFolder,\"matchesDataset.pkl\"))"
   ]
  },
  {
   "cell_type": "code",
   "execution_count": null,
   "metadata": {
    "ExecuteTime": {
     "end_time": "2024-05-07T21:57:27.465574900Z",
     "start_time": "2024-05-07T21:57:27.386332900Z"
    }
   },
   "outputs": [],
   "source": [
    "pd.read_pickle(os.path.join(dataFolder,\"matchesDataset.pkl\"))"
   ]
  },
  {
   "cell_type": "code",
   "execution_count": null,
   "metadata": {
    "ExecuteTime": {
     "start_time": "2024-05-07T21:57:27.390404900Z"
    }
   },
   "outputs": [],
   "source": []
  }
 ],
 "metadata": {
  "kernelspec": {
   "display_name": "Python 3.10.6 ('soccerOdds')",
   "language": "python",
   "name": "python3"
  },
  "language_info": {
   "codemirror_mode": {
    "name": "ipython",
    "version": 3
   },
   "file_extension": ".py",
   "mimetype": "text/x-python",
   "name": "python",
   "nbconvert_exporter": "python",
   "pygments_lexer": "ipython3",
   "version": "3.10.6"
  },
  "orig_nbformat": 4,
  "vscode": {
   "interpreter": {
    "hash": "933f41b30f7821c659680c6a9e1d5f4ec38a49b55549938f797baa23edf4c3e5"
   }
  }
 },
 "nbformat": 4,
 "nbformat_minor": 2
}
