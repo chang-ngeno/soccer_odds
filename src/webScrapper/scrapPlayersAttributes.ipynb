{
 "cells": [
  {
   "cell_type": "code",
   "execution_count": 1,
   "metadata": {},
   "outputs": [],
   "source": [
    "import pandas as pd\n",
    "from scrapper import Scrapper"
   ]
  },
  {
   "cell_type": "code",
   "execution_count": 2,
   "metadata": {},
   "outputs": [],
   "source": [
    "playersRefs = pd.read_pickle('../../data/playersRefs.pkl')\n",
    "checkPointAttributes = pd.read_pickle('../../data/checkPointAttributes.pkl')"
   ]
  },
  {
   "cell_type": "code",
   "execution_count": 4,
   "metadata": {},
   "outputs": [
    {
     "data": {
      "text/html": [
       "<div>\n",
       "<style scoped>\n",
       "    .dataframe tbody tr th:only-of-type {\n",
       "        vertical-align: middle;\n",
       "    }\n",
       "\n",
       "    .dataframe tbody tr th {\n",
       "        vertical-align: top;\n",
       "    }\n",
       "\n",
       "    .dataframe thead th {\n",
       "        text-align: right;\n",
       "    }\n",
       "</style>\n",
       "<table border=\"1\" class=\"dataframe\">\n",
       "  <thead>\n",
       "    <tr style=\"text-align: right;\">\n",
       "      <th></th>\n",
       "      <th>ID</th>\n",
       "      <th>Crossing</th>\n",
       "      <th>Finishing</th>\n",
       "      <th>Heading Accuracy</th>\n",
       "      <th>Short Passing</th>\n",
       "      <th>Volleys</th>\n",
       "      <th>Dribbling</th>\n",
       "      <th>Curve</th>\n",
       "      <th>FK Accuracy</th>\n",
       "      <th>Long Passing</th>\n",
       "      <th>...</th>\n",
       "      <th>Penalties</th>\n",
       "      <th>Composure</th>\n",
       "      <th>Marking</th>\n",
       "      <th>Standing Tackle</th>\n",
       "      <th>Sliding Tackle</th>\n",
       "      <th>GK Diving</th>\n",
       "      <th>GK Handling</th>\n",
       "      <th>GK Kicking</th>\n",
       "      <th>GK Positioning</th>\n",
       "      <th>GK Reflexes</th>\n",
       "    </tr>\n",
       "  </thead>\n",
       "  <tbody>\n",
       "    <tr>\n",
       "      <th>0</th>\n",
       "      <td>/player/189615/aaron-cresswell/170099/</td>\n",
       "      <td>80</td>\n",
       "      <td>53</td>\n",
       "      <td>58</td>\n",
       "      <td>72</td>\n",
       "      <td>45</td>\n",
       "      <td>76</td>\n",
       "      <td>75</td>\n",
       "      <td>69</td>\n",
       "      <td>68</td>\n",
       "      <td>...</td>\n",
       "      <td>59</td>\n",
       "      <td>72</td>\n",
       "      <td>76</td>\n",
       "      <td>75</td>\n",
       "      <td>78</td>\n",
       "      <td>14</td>\n",
       "      <td>7</td>\n",
       "      <td>9</td>\n",
       "      <td>9</td>\n",
       "      <td>12</td>\n",
       "    </tr>\n",
       "    <tr>\n",
       "      <th>1</th>\n",
       "      <td>/player/173546/james-tomkins/170099/</td>\n",
       "      <td>45</td>\n",
       "      <td>29</td>\n",
       "      <td>78</td>\n",
       "      <td>63</td>\n",
       "      <td>28</td>\n",
       "      <td>50</td>\n",
       "      <td>33</td>\n",
       "      <td>31</td>\n",
       "      <td>60</td>\n",
       "      <td>...</td>\n",
       "      <td>43</td>\n",
       "      <td>69</td>\n",
       "      <td>77</td>\n",
       "      <td>79</td>\n",
       "      <td>80</td>\n",
       "      <td>11</td>\n",
       "      <td>8</td>\n",
       "      <td>6</td>\n",
       "      <td>9</td>\n",
       "      <td>14</td>\n",
       "    </tr>\n",
       "    <tr>\n",
       "      <th>2</th>\n",
       "      <td>/player/186801/cheikhou-kouyate/170099/</td>\n",
       "      <td>54</td>\n",
       "      <td>65</td>\n",
       "      <td>80</td>\n",
       "      <td>68</td>\n",
       "      <td>50</td>\n",
       "      <td>68</td>\n",
       "      <td>39</td>\n",
       "      <td>47</td>\n",
       "      <td>64</td>\n",
       "      <td>...</td>\n",
       "      <td>52</td>\n",
       "      <td>72</td>\n",
       "      <td>70</td>\n",
       "      <td>81</td>\n",
       "      <td>75</td>\n",
       "      <td>15</td>\n",
       "      <td>8</td>\n",
       "      <td>9</td>\n",
       "      <td>12</td>\n",
       "      <td>9</td>\n",
       "    </tr>\n",
       "  </tbody>\n",
       "</table>\n",
       "<p>3 rows × 35 columns</p>\n",
       "</div>"
      ],
      "text/plain": [
       "                                        ID  Crossing  Finishing  \\\n",
       "0   /player/189615/aaron-cresswell/170099/        80         53   \n",
       "1     /player/173546/james-tomkins/170099/        45         29   \n",
       "2  /player/186801/cheikhou-kouyate/170099/        54         65   \n",
       "\n",
       "   Heading Accuracy  Short Passing  Volleys  Dribbling  Curve  FK Accuracy  \\\n",
       "0                58             72       45         76     75           69   \n",
       "1                78             63       28         50     33           31   \n",
       "2                80             68       50         68     39           47   \n",
       "\n",
       "   Long Passing  ...  Penalties  Composure  Marking  Standing Tackle  \\\n",
       "0            68  ...         59         72       76               75   \n",
       "1            60  ...         43         69       77               79   \n",
       "2            64  ...         52         72       70               81   \n",
       "\n",
       "   Sliding Tackle  GK Diving  GK Handling  GK Kicking  GK Positioning  \\\n",
       "0              78         14            7           9               9   \n",
       "1              80         11            8           6               9   \n",
       "2              75         15            8           9              12   \n",
       "\n",
       "   GK Reflexes  \n",
       "0           12  \n",
       "1           14  \n",
       "2            9  \n",
       "\n",
       "[3 rows x 35 columns]"
      ]
     },
     "execution_count": 4,
     "metadata": {},
     "output_type": "execute_result"
    }
   ],
   "source": [
    "checkPointAttributes.head(3)"
   ]
  },
  {
   "cell_type": "code",
   "execution_count": 4,
   "metadata": {},
   "outputs": [],
   "source": [
    "scrapper = Scrapper()"
   ]
  },
  {
   "cell_type": "code",
   "execution_count": 5,
   "metadata": {},
   "outputs": [],
   "source": [
    "playersAttributes = scrapper.get_players_attributes(playersRefs['ID'], checkPointAttributes)\n",
    "# playersAttributes.to_pickle('../../data/checkPointAttributes.pkl')"
   ]
  },
  {
   "cell_type": "code",
   "execution_count": 10,
   "metadata": {},
   "outputs": [],
   "source": [
    "# playersAttributes = pd.concat([checkPointAttributes, df], axis=0)"
   ]
  },
  {
   "cell_type": "code",
   "execution_count": 11,
   "metadata": {},
   "outputs": [],
   "source": [
    "playersAttributes.to_pickle('../../data/playersAttributes.pkl')"
   ]
  }
 ],
 "metadata": {
  "kernelspec": {
   "display_name": "soccerOdds",
   "language": "python",
   "name": "python3"
  },
  "language_info": {
   "codemirror_mode": {
    "name": "ipython",
    "version": 3
   },
   "file_extension": ".py",
   "mimetype": "text/x-python",
   "name": "python",
   "nbconvert_exporter": "python",
   "pygments_lexer": "ipython3",
   "version": "3.10.6"
  },
  "orig_nbformat": 4,
  "vscode": {
   "interpreter": {
    "hash": "933f41b30f7821c659680c6a9e1d5f4ec38a49b55549938f797baa23edf4c3e5"
   }
  }
 },
 "nbformat": 4,
 "nbformat_minor": 2
}
